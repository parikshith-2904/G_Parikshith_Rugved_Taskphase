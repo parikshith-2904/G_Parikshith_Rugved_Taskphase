{
 "cells": [
  {
   "cell_type": "code",
   "execution_count": 6,
   "metadata": {},
   "outputs": [],
   "source": [
    "import cv2\n",
    "import numpy as np\n",
    "vid = cv2.VideoCapture(\"Ball_Tracking.mp4\")"
   ]
  },
  {
   "cell_type": "code",
   "execution_count": 7,
   "metadata": {},
   "outputs": [],
   "source": [
    "while vid.isOpened():\n",
    "    ret, frame = vid.read()\n",
    "\n",
    "    if not ret:\n",
    "        break\n",
    "\n",
    "    lower_range = np.array([40, 40, 40])\n",
    "    upper_range = np.array([80, 255, 255])\n",
    "    frame_hsv = cv2.cvtColor(frame, cv2.COLOR_BGR2HSV)\n",
    "    masked_image = cv2.inRange(frame_hsv, lower_range, upper_range)\n",
    "    contours, hierarchy = cv2.findContours(masked_image, cv2.RETR_EXTERNAL, cv2.CHAIN_APPROX_SIMPLE)\n",
    "    if contours:\n",
    "        x, y, width, height = cv2.boundingRect(max(contours, key=cv2.contourArea))\n",
    "        cv2.circle(frame, (int(x+(width/2)),int(y+(height/2))), int((width+height)/4), (255,0,0),2)\n",
    "        #cv2.rectangle(frame, (x ,y) ,(x+width ,y+height),(255,0,0),2)\n",
    "    \n",
    "    cv2.imshow(\"Ball Tracking\",frame)\n",
    "\n",
    "    if cv2.waitKey(1) & 0xFF == ord('q'):\n",
    "        break\n",
    "\n",
    "vid.release()\n",
    "cv2.destroyAllWindows()\n"
   ]
  }
 ],
 "metadata": {
  "kernelspec": {
   "display_name": "Python 3",
   "language": "python",
   "name": "python3"
  },
  "language_info": {
   "codemirror_mode": {
    "name": "ipython",
    "version": 3
   },
   "file_extension": ".py",
   "mimetype": "text/x-python",
   "name": "python",
   "nbconvert_exporter": "python",
   "pygments_lexer": "ipython3",
   "version": "3.12.0"
  }
 },
 "nbformat": 4,
 "nbformat_minor": 2
}
